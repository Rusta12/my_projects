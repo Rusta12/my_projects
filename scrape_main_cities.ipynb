{
 "cells": [
  {
   "cell_type": "code",
   "execution_count": 1,
   "id": "bdc7510f",
   "metadata": {},
   "outputs": [],
   "source": [
    "import pandas as pd\n",
    "import requests\n",
    "from bs4 import BeautifulSoup"
   ]
  },
  {
   "cell_type": "markdown",
   "id": "c93a0fac",
   "metadata": {},
   "source": [
    "## Collecting data from Wikipedia"
   ]
  },
  {
   "cell_type": "markdown",
   "id": "c908c39e",
   "metadata": {},
   "source": [
    "### Cities data"
   ]
  },
  {
   "cell_type": "code",
   "execution_count": 2,
   "id": "ac72c08b",
   "metadata": {},
   "outputs": [],
   "source": [
    "url = 'https://ru.wikipedia.org/wiki/%D0%93%D0%BE%D1%80%D0%BE%D0%B4%D1%81%D0%BA%D0%B8%D0%B5_%D0%BD%D0%B0%D1%81%D0%B5%D0%BB%D1%91%D0%BD%D0%BD%D1%8B%D0%B5_%D0%BF%D1%83%D0%BD%D0%BA%D1%82%D1%8B_%D0%A2%D0%B2%D0%B5%D1%80%D1%81%D0%BA%D0%BE%D0%B9_%D0%BE%D0%B1%D0%BB%D0%B0%D1%81%D1%82%D0%B8'"
   ]
  },
  {
   "cell_type": "code",
   "execution_count": 5,
   "id": "4008cff6",
   "metadata": {},
   "outputs": [],
   "source": [
    "r = requests.get(url)\n",
    "soup = BeautifulSoup(r.text, 'html.parser')\n",
    "tables = soup.find_all('table')"
   ]
  },
  {
   "cell_type": "code",
   "execution_count": 13,
   "id": "52b6a044",
   "metadata": {},
   "outputs": [],
   "source": [
    "cities_list = [cell.text.strip() for cell in tables[0].find_all('td')]"
   ]
  },
  {
   "cell_type": "code",
   "execution_count": 53,
   "id": "2c12692f",
   "metadata": {},
   "outputs": [],
   "source": [
    "cities = cities_list[1::9]\n",
    "population = cities_list[4::9]\n",
    "cities_df = pd.DataFrame({'name': cities, 'population': population})\n",
    "\n",
    "cities_df['population'] = cities_df.population.apply(lambda x: x[1:-3]).str.replace('\\xa0', '').astype(int)\n",
    "\n",
    "# we add region name at the end of the settlement name to avoid wrong results from geocoding,\n",
    "# since there might be several settlements with the same name\n",
    "cities_df['geocode_name'] = cities_df.name + ', Тверская область'"
   ]
  },
  {
   "cell_type": "code",
   "execution_count": 44,
   "id": "6227a4a7",
   "metadata": {},
   "outputs": [
    {
     "data": {
      "text/html": [
       "<div>\n",
       "<style scoped>\n",
       "    .dataframe tbody tr th:only-of-type {\n",
       "        vertical-align: middle;\n",
       "    }\n",
       "\n",
       "    .dataframe tbody tr th {\n",
       "        vertical-align: top;\n",
       "    }\n",
       "\n",
       "    .dataframe thead th {\n",
       "        text-align: right;\n",
       "    }\n",
       "</style>\n",
       "<table border=\"1\" class=\"dataframe\">\n",
       "  <thead>\n",
       "    <tr style=\"text-align: right;\">\n",
       "      <th></th>\n",
       "      <th>name</th>\n",
       "      <th>population</th>\n",
       "      <th>geocode_name</th>\n",
       "    </tr>\n",
       "  </thead>\n",
       "  <tbody>\n",
       "    <tr>\n",
       "      <th>0</th>\n",
       "      <td>Андреаполь</td>\n",
       "      <td>6801</td>\n",
       "      <td>Андреаполь, Тверская область</td>\n",
       "    </tr>\n",
       "    <tr>\n",
       "      <th>1</th>\n",
       "      <td>Бежецк</td>\n",
       "      <td>20418</td>\n",
       "      <td>Бежецк, Тверская область</td>\n",
       "    </tr>\n",
       "    <tr>\n",
       "      <th>2</th>\n",
       "      <td>Белый</td>\n",
       "      <td>3090</td>\n",
       "      <td>Белый, Тверская область</td>\n",
       "    </tr>\n",
       "    <tr>\n",
       "      <th>3</th>\n",
       "      <td>Бологое</td>\n",
       "      <td>20498</td>\n",
       "      <td>Бологое, Тверская область</td>\n",
       "    </tr>\n",
       "    <tr>\n",
       "      <th>4</th>\n",
       "      <td>Весьегонск</td>\n",
       "      <td>6016</td>\n",
       "      <td>Весьегонск, Тверская область</td>\n",
       "    </tr>\n",
       "  </tbody>\n",
       "</table>\n",
       "</div>"
      ],
      "text/plain": [
       "         name  population                  geocode_name\n",
       "0  Андреаполь        6801  Андреаполь, Тверская область\n",
       "1      Бежецк       20418      Бежецк, Тверская область\n",
       "2       Белый        3090       Белый, Тверская область\n",
       "3     Бологое       20498     Бологое, Тверская область\n",
       "4  Весьегонск        6016  Весьегонск, Тверская область"
      ]
     },
     "execution_count": 44,
     "metadata": {},
     "output_type": "execute_result"
    }
   ],
   "source": [
    "cities_df.head()"
   ]
  },
  {
   "cell_type": "markdown",
   "id": "75a9cc7c",
   "metadata": {},
   "source": [
    "### Other urban settlements data"
   ]
  },
  {
   "cell_type": "code",
   "execution_count": 46,
   "id": "d9beb821",
   "metadata": {},
   "outputs": [],
   "source": [
    "pgt_list = [cell.text.strip() for cell in tables[1].find_all('td')]"
   ]
  },
  {
   "cell_type": "code",
   "execution_count": 108,
   "id": "f393d0c5",
   "metadata": {},
   "outputs": [],
   "source": [
    "pgt = pgt_list[1::9]\n",
    "mun_name = pgt_list[2::9]\n",
    "population = pgt_list[4::9]\n",
    "pgt_df = pd.DataFrame({'name': pgt, 'mun_name': mun_name, 'population': population})\n",
    "\n",
    "pgt_df['population'] = pgt_df.population.apply(lambda x: x[1:-3]).str.replace('\\xa0', '').astype(int)\n",
    "pgt_df['geocode_name'] = pgt_df.name + ', ' + pgt_df.mun_name + ', Тверская область'\n",
    "pgt_df = pgt_df.drop('mun_name', axis=1)"
   ]
  },
  {
   "cell_type": "code",
   "execution_count": 109,
   "id": "ccb3a6cf",
   "metadata": {},
   "outputs": [
    {
     "data": {
      "text/html": [
       "<div>\n",
       "<style scoped>\n",
       "    .dataframe tbody tr th:only-of-type {\n",
       "        vertical-align: middle;\n",
       "    }\n",
       "\n",
       "    .dataframe tbody tr th {\n",
       "        vertical-align: top;\n",
       "    }\n",
       "\n",
       "    .dataframe thead th {\n",
       "        text-align: right;\n",
       "    }\n",
       "</style>\n",
       "<table border=\"1\" class=\"dataframe\">\n",
       "  <thead>\n",
       "    <tr style=\"text-align: right;\">\n",
       "      <th></th>\n",
       "      <th>name</th>\n",
       "      <th>population</th>\n",
       "      <th>geocode_name</th>\n",
       "    </tr>\n",
       "  </thead>\n",
       "  <tbody>\n",
       "    <tr>\n",
       "      <th>0</th>\n",
       "      <td>Белый Городок</td>\n",
       "      <td>1867</td>\n",
       "      <td>Белый Городок, Кимрский мун.район, Тверская об...</td>\n",
       "    </tr>\n",
       "    <tr>\n",
       "      <th>1</th>\n",
       "      <td>Васильевский Мох</td>\n",
       "      <td>2150</td>\n",
       "      <td>Васильевский Мох, Калининский мун.район, Тверс...</td>\n",
       "    </tr>\n",
       "    <tr>\n",
       "      <th>2</th>\n",
       "      <td>Великооктябрьский</td>\n",
       "      <td>1830</td>\n",
       "      <td>Великооктябрьский, Фировский мун.район, Тверск...</td>\n",
       "    </tr>\n",
       "    <tr>\n",
       "      <th>3</th>\n",
       "      <td>Жарковский</td>\n",
       "      <td>2940</td>\n",
       "      <td>Жарковский, Жарковский мун.район, Тверская обл...</td>\n",
       "    </tr>\n",
       "    <tr>\n",
       "      <th>4</th>\n",
       "      <td>Изоплит</td>\n",
       "      <td>1588</td>\n",
       "      <td>Изоплит, Конаковский мун.район, Тверская область</td>\n",
       "    </tr>\n",
       "  </tbody>\n",
       "</table>\n",
       "</div>"
      ],
      "text/plain": [
       "                name  population  \\\n",
       "0      Белый Городок        1867   \n",
       "1   Васильевский Мох        2150   \n",
       "2  Великооктябрьский        1830   \n",
       "3         Жарковский        2940   \n",
       "4            Изоплит        1588   \n",
       "\n",
       "                                        geocode_name  \n",
       "0  Белый Городок, Кимрский мун.район, Тверская об...  \n",
       "1  Васильевский Мох, Калининский мун.район, Тверс...  \n",
       "2  Великооктябрьский, Фировский мун.район, Тверск...  \n",
       "3  Жарковский, Жарковский мун.район, Тверская обл...  \n",
       "4   Изоплит, Конаковский мун.район, Тверская область  "
      ]
     },
     "execution_count": 109,
     "metadata": {},
     "output_type": "execute_result"
    }
   ],
   "source": [
    "pgt_df.head()"
   ]
  },
  {
   "cell_type": "markdown",
   "id": "ecff523c",
   "metadata": {},
   "source": [
    "## Geocoding"
   ]
  },
  {
   "cell_type": "code",
   "execution_count": 110,
   "id": "f33451de",
   "metadata": {},
   "outputs": [],
   "source": [
    "from geopy.geocoders import Nominatim\n",
    "\n",
    "geocoder = Nominatim(user_agent='my_application')"
   ]
  },
  {
   "cell_type": "code",
   "execution_count": 111,
   "id": "c39019c3",
   "metadata": {},
   "outputs": [],
   "source": [
    "cities_df['type'] = 'city'\n",
    "pgt_df['type'] = 'pgt'\n",
    "\n",
    "settlements = cities_df.append(pgt_df)"
   ]
  },
  {
   "cell_type": "code",
   "execution_count": 115,
   "id": "d64fcc8a",
   "metadata": {},
   "outputs": [],
   "source": [
    "address, lats, lons = [], [], []\n",
    "\n",
    "for city in settlements.name:\n",
    "    addr, (lat, lon) = geocoder.geocode(city)\n",
    "    address.append(addr)\n",
    "    lats.append(lat)\n",
    "    lons.append(lon)\n",
    "    \n",
    "settlements_coords = pd.DataFrame({'name': settlements.name, 'address': address, 'lat': lats, 'lon': lons})"
   ]
  },
  {
   "cell_type": "code",
   "execution_count": 117,
   "id": "88f93409",
   "metadata": {},
   "outputs": [
    {
     "data": {
      "text/html": [
       "<div>\n",
       "<style scoped>\n",
       "    .dataframe tbody tr th:only-of-type {\n",
       "        vertical-align: middle;\n",
       "    }\n",
       "\n",
       "    .dataframe tbody tr th {\n",
       "        vertical-align: top;\n",
       "    }\n",
       "\n",
       "    .dataframe thead th {\n",
       "        text-align: right;\n",
       "    }\n",
       "</style>\n",
       "<table border=\"1\" class=\"dataframe\">\n",
       "  <thead>\n",
       "    <tr style=\"text-align: right;\">\n",
       "      <th></th>\n",
       "      <th>name</th>\n",
       "      <th>address</th>\n",
       "      <th>lat</th>\n",
       "      <th>lon</th>\n",
       "    </tr>\n",
       "  </thead>\n",
       "  <tbody>\n",
       "    <tr>\n",
       "      <th>0</th>\n",
       "      <td>Андреаполь</td>\n",
       "      <td>Андреаполь, Андреапольский муниципальный округ...</td>\n",
       "      <td>56.646801</td>\n",
       "      <td>32.265320</td>\n",
       "    </tr>\n",
       "    <tr>\n",
       "      <th>1</th>\n",
       "      <td>Бежецк</td>\n",
       "      <td>Бежецк, Бежецкий район, Тверская область, Цент...</td>\n",
       "      <td>57.781357</td>\n",
       "      <td>36.692535</td>\n",
       "    </tr>\n",
       "    <tr>\n",
       "      <th>2</th>\n",
       "      <td>Белый</td>\n",
       "      <td>Белый, городское поселение Белый, Бельский рай...</td>\n",
       "      <td>55.833073</td>\n",
       "      <td>32.939487</td>\n",
       "    </tr>\n",
       "    <tr>\n",
       "      <th>3</th>\n",
       "      <td>Бологое</td>\n",
       "      <td>Бологое, городское поселение Бологое, Бологовс...</td>\n",
       "      <td>57.885204</td>\n",
       "      <td>34.049603</td>\n",
       "    </tr>\n",
       "    <tr>\n",
       "      <th>4</th>\n",
       "      <td>Весьегонск</td>\n",
       "      <td>Весьегонск, Весьегонский муниципальный округ, ...</td>\n",
       "      <td>58.663726</td>\n",
       "      <td>37.262650</td>\n",
       "    </tr>\n",
       "  </tbody>\n",
       "</table>\n",
       "</div>"
      ],
      "text/plain": [
       "         name                                            address        lat  \\\n",
       "0  Андреаполь  Андреаполь, Андреапольский муниципальный округ...  56.646801   \n",
       "1      Бежецк  Бежецк, Бежецкий район, Тверская область, Цент...  57.781357   \n",
       "2       Белый  Белый, городское поселение Белый, Бельский рай...  55.833073   \n",
       "3     Бологое  Бологое, городское поселение Бологое, Бологовс...  57.885204   \n",
       "4  Весьегонск  Весьегонск, Весьегонский муниципальный округ, ...  58.663726   \n",
       "\n",
       "         lon  \n",
       "0  32.265320  \n",
       "1  36.692535  \n",
       "2  32.939487  \n",
       "3  34.049603  \n",
       "4  37.262650  "
      ]
     },
     "execution_count": 117,
     "metadata": {},
     "output_type": "execute_result"
    }
   ],
   "source": [
    "settlements_coords.head()"
   ]
  },
  {
   "cell_type": "code",
   "execution_count": 119,
   "id": "32b350b4",
   "metadata": {},
   "outputs": [],
   "source": [
    "settlements = settlements.merge(settlements_coords, on='name').drop('geocode_name', axis=1)"
   ]
  },
  {
   "cell_type": "markdown",
   "id": "30511d4f",
   "metadata": {},
   "source": [
    "When checking visually the validity of the recieved coordinates, one wrong point was spotted. Here correcting it manually."
   ]
  },
  {
   "cell_type": "code",
   "execution_count": 123,
   "id": "ffa6d360",
   "metadata": {},
   "outputs": [],
   "source": [
    "settlements.loc[settlements.name == 'Пено', ['lat', 'lon']] = [56.923, 32.7448]"
   ]
  },
  {
   "cell_type": "markdown",
   "id": "91f96cfd",
   "metadata": {},
   "source": [
    "## Preparing settlements for QGIS"
   ]
  },
  {
   "cell_type": "code",
   "execution_count": 66,
   "id": "b19aa4dd",
   "metadata": {},
   "outputs": [],
   "source": [
    "import geopandas as gpd"
   ]
  },
  {
   "cell_type": "code",
   "execution_count": 125,
   "id": "684f9de8",
   "metadata": {},
   "outputs": [],
   "source": [
    "settlements_gdf = \\\n",
    "gpd.GeoDataFrame(settlements,\n",
    "                 geometry = gpd.points_from_xy(settlements.lon, settlements.lat)).drop(['lat', 'lon'], axis=1)\n",
    "\n",
    "settlements_gdf.crs = {\"init\": \"EPSG:4326\"}\n",
    "settlements_gdf = settlements_gdf.to_crs(epsg=32637)"
   ]
  },
  {
   "cell_type": "code",
   "execution_count": 128,
   "id": "49eae9dd",
   "metadata": {},
   "outputs": [
    {
     "data": {
      "text/plain": [
       "51"
      ]
     },
     "execution_count": 128,
     "metadata": {},
     "output_type": "execute_result"
    }
   ],
   "source": [
    "settlements_gdf.geometry.nunique()"
   ]
  },
  {
   "cell_type": "code",
   "execution_count": 127,
   "id": "2a22fc49",
   "metadata": {},
   "outputs": [],
   "source": [
    "settlements_gdf.to_file('urban_settlements.shp', encoding='utf-8')"
   ]
  },
  {
   "cell_type": "code",
   "execution_count": null,
   "id": "ae9e3d78",
   "metadata": {},
   "outputs": [],
   "source": []
  }
 ],
 "metadata": {
  "kernelspec": {
   "display_name": "Python 3",
   "language": "python",
   "name": "python3"
  },
  "language_info": {
   "codemirror_mode": {
    "name": "ipython",
    "version": 3
   },
   "file_extension": ".py",
   "mimetype": "text/x-python",
   "name": "python",
   "nbconvert_exporter": "python",
   "pygments_lexer": "ipython3",
   "version": "3.8.5"
  }
 },
 "nbformat": 4,
 "nbformat_minor": 5
}
